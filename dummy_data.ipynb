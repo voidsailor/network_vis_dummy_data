{
 "cells": [
  {
   "cell_type": "markdown",
   "metadata": {
    "id": "vooxYvZX4UPW"
   },
   "source": [
    "run all cells, change parameters in last cell"
   ]
  },
  {
   "cell_type": "code",
   "execution_count": 53,
   "metadata": {
    "id": "4IODtFPDUqpt"
   },
   "outputs": [],
   "source": [
    "from enum import Enum\n",
    "from math import sqrt, floor, ceil, log, exp\n",
    "import random\n",
    "from warnings import warn\n",
    "\n",
    "import json\n",
    "import matplotlib.pyplot as plt\n",
    "import networkx as nx\n",
    "\n",
    "import uuid"
   ]
  },
  {
   "cell_type": "markdown",
   "metadata": {
    "id": "EP4MuYmhWZdw"
   },
   "source": [
    "# 1) Classes for nodes and edges"
   ]
  },
  {
   "cell_type": "code",
   "execution_count": 54,
   "metadata": {
    "id": "PyLcOsAfSRf8"
   },
   "outputs": [],
   "source": [
    "class DataObject:\n",
    "\n",
    "  def toJSON(self):\n",
    "        return json.dumps(self, default=lambda o: o.__dict__, sort_keys=True, indent=4)\n",
    "\n",
    "class Level(Enum):\n",
    "  MOLECULAR = 'molecular'\n",
    "  MODULE = 'module'\n",
    "  ORGANELLE = 'organelle'\n",
    "  COMMUNITY = 'community'\n",
    "\n",
    "class NetworkMap(DataObject):\n",
    "  level = None\n",
    "  nodes = []\n",
    "  edges = []\n",
    "\n",
    "  def __init__(self, level, nodes, edges):\n",
    "    self.level = level\n",
    "    self.nodes = nodes\n",
    "    self.edges = edges\n",
    "\n",
    "class NodeType(Enum):\n",
    "  CIRCLE = 'circle'\n",
    "  SQUARE = 'square'\n",
    "  DIAMOND = 'diamond'\n",
    "\n",
    "class Node(DataObject):\n",
    "  nodeId = 0\n",
    "  label = ''\n",
    "  modelElementRef = ''\n",
    "  dataRef = ''\n",
    "  nodeType = NodeType.CIRCLE\n",
    "  isSecondaryMetabolite = False\n",
    "  size = 1\n",
    "  color = 1\n",
    "  x = 0\n",
    "  y = 0\n",
    "  connections = []\n",
    "  degree = 0\n",
    "  is_exchange_metabolite = False\n",
    "\n",
    "  def __init__(self, nodeId, label, modelElementRef, dataRef, nodeType, x, y):\n",
    "    self.nodeId = nodeId\n",
    "    self.label = label\n",
    "    self.modelElementRef = modelElementRef\n",
    "    self.dataRef = dataRef\n",
    "    self.nodeType = nodeType\n",
    "    self.x = x\n",
    "    self.y = y\n",
    "    self.connections = []\n",
    "    self.degree = 0\n",
    "    self.isSecondaryMetabolite = False\n",
    "\n",
    "class EdgeType(Enum):\n",
    "  UNDIRECTED = 'undirected'\n",
    "  FORWARD = 'forward'\n",
    "  REVERSIBLE = 'reversible'\n",
    "\n",
    "class Edge(DataObject):\n",
    "  edgeId = 0\n",
    "  label = ''\n",
    "  modelElementRef = ''\n",
    "  dataRef = ''\n",
    "  width = 1\n",
    "  color = 1\n",
    "  edgeType = EdgeType.UNDIRECTED\n",
    "  flux = 0\n",
    "  source = 0\n",
    "  target = 0\n",
    "\n",
    "  def __init__(self, edgeId, label, modelElementRef, dataRef, edgeType, flux, source, target):\n",
    "    self.edgeId = edgeId\n",
    "    self.label = label\n",
    "    self.modelElementRef = modelElementRef\n",
    "    self.dataRef = dataRef\n",
    "    self.edgeType = edgeType\n",
    "    self.flux = flux\n",
    "    self.source = source\n",
    "    self.target = target\n",
    "\n",
    "class NodeCollection:\n",
    "  nodes = {}\n",
    "  length = 0\n",
    "  collectionType = Level.MOLECULAR\n",
    "  nodeType = NodeType.CIRCLE\n",
    "  degreeDistribution = []\n",
    "  exchangeMetaboliteDistribution = []\n",
    "\n",
    "  def __init__(self, nodes, collectionType, nodeType, length, degreeDistribution, exchangeMetaboliteDistribution):\n",
    "    self.nodes = nodes\n",
    "    self.collectionType = collectionType\n",
    "    self.nodeType = nodeType\n",
    "    self.length = length\n",
    "    self.degreeDistribution = degreeDistribution\n",
    "    self.exchangeMetaboliteDistribution = exchangeMetaboliteDistribution\n",
    "\n",
    "\n",
    "class Data(DataObject):\n",
    "  nodeData = {}\n",
    "  edgeData = {}\n",
    "  level = Level.MOLECULAR\n",
    "\n",
    "  def __init__(self, nodeData, edgeData, level):\n",
    "    self.nodeData = nodeData\n",
    "    self.edgeData = edgeData\n",
    "    self.level = level"
   ]
  },
  {
   "cell_type": "markdown",
   "metadata": {
    "id": "-oAPhK4tWiGf"
   },
   "source": [
    "# 2) Generating nodes"
   ]
  },
  {
   "cell_type": "code",
   "execution_count": 55,
   "metadata": {
    "id": "YRw7JUEbW6Ex"
   },
   "outputs": [],
   "source": [
    "def build_node_collections(node_collections):\n",
    "  # current node id\n",
    "  current_id = 0\n",
    "  # current positions\n",
    "  # x = 0\n",
    "  # y = 0\n",
    "\n",
    "  for collection in node_collections:\n",
    "\n",
    "    for node_index in range(0, collection.length):\n",
    "\n",
    "      label = 'node_' + str(current_id)\n",
    "\n",
    "      node_data_ref = str(uuid.uuid4())\n",
    "\n",
    "      new_node = Node(\n",
    "          current_id,\n",
    "          label,\n",
    "          modelElementRef='',\n",
    "          dataRef=node_data_ref,\n",
    "          nodeType=collection.nodeType,\n",
    "          x=random.randrange(0, 100),\n",
    "          y=random.randrange(0, 100))\n",
    "\n",
    "      new_node.degree = collection.degreeDistribution[node_index]\n",
    "\n",
    "      collection.nodes.update({current_id: new_node})\n",
    "\n",
    "      current_id += 1\n",
    "\n",
    "def generate_nodes(number_of_nodes, level):\n",
    "  ## parameters and distributions\n",
    "  # ratio of metabolites and reactions\n",
    "  metabolite_node_fraction = 0.44\n",
    "  number_of_metabolites = floor(number_of_nodes * (1-metabolite_node_fraction))\n",
    "  number_of_reactions = floor(number_of_nodes * metabolite_node_fraction)\n",
    "\n",
    "  # fraction of exchange metabolites among total metabolites\n",
    "  exchange_metabolite_fraction = 0.28\n",
    "\n",
    "  # probability distribution of node degrees (power law)\n",
    "  # min degree == 2 --> metabolite nodes are fully connected\n",
    "  metabolite_degrees = [deg for deg in range(2, 15)]\n",
    "  metabolite_probability = [deg ** (-2.2) for deg in metabolite_degrees]\n",
    "  # normalization of accumulated probabilities to 1\n",
    "  metabolite_probability = [ prob / sum(metabolite_probability) for prob in metabolite_probability]\n",
    "  metabolite_degree_distribution = random.choices(metabolite_degrees, metabolite_probability, k=number_of_metabolites)\n",
    "\n",
    "\n",
    "  # probability distribution for reaction node degree\n",
    "  reaction_degrees = [deg for deg in range(2, 16)]\n",
    "  reaction_probability = [deg ** (-2.2) for deg in reaction_degrees]\n",
    "  reaction_probability = [ prob / sum(reaction_probability) for prob in reaction_probability]\n",
    "  reaction_degree_distribution = random.choices(reaction_degrees, reaction_probability, k=number_of_reactions)\n",
    "\n",
    "  # probability distribution of exchange metabolites\n",
    "  exchange_metabolite = [True, False]\n",
    "  exchange_metabolite_fractions = [exchange_metabolite_fraction, 1-exchange_metabolite_fraction]\n",
    "  exchange_metabolite_distribution = random.choices(exchange_metabolite, exchange_metabolite_fractions, k=number_of_metabolites)\n",
    "\n",
    "  ## creating nodes\n",
    "  node_collections = []\n",
    "\n",
    "  if level == Level.MOLECULAR:\n",
    "    # initialize node collections\n",
    "    node_collections.extend(\n",
    "        [NodeCollection({}, level, NodeType.CIRCLE, number_of_metabolites, metabolite_degree_distribution, exchange_metabolite_distribution),\n",
    "        NodeCollection({}, level, NodeType.DIAMOND, number_of_reactions, reaction_degree_distribution, [False] * number_of_reactions),]\n",
    "    )\n",
    "  elif level == Level.MODULE or level == Level.ORGANELLE:\n",
    "    node_collections.extend(\n",
    "        [\n",
    "            NodeCollection({}, level, NodeType.CIRCLE, number_of_nodes, [0] * number_of_nodes, [False] * number_of_nodes)\n",
    "        ]\n",
    "    )\n",
    "\n",
    "  build_node_collections(node_collections)\n",
    "\n",
    "  return node_collections"
   ]
  },
  {
   "cell_type": "markdown",
   "metadata": {
    "id": "VZntjEaMr9Gw"
   },
   "source": [
    "# 3) Generate scale-free network of metabolite nodes"
   ]
  },
  {
   "cell_type": "code",
   "execution_count": 56,
   "metadata": {
    "id": "zkvSZrKmDiO3"
   },
   "outputs": [],
   "source": [
    "def assign_edges_to_metabolites(metabolite_dict, reaction_dict, network_edges, metabolite_edges):\n",
    "\n",
    "  metabolite_keys = metabolite_dict.keys()\n",
    "  available_metabolites = set(metabolite_keys)\n",
    "\n",
    "  reaction_keys = reaction_dict.keys()\n",
    "  available_reactions = set(reaction_keys)\n",
    "\n",
    "  assigned_exchange_metabolites = set()\n",
    "\n",
    "  for metabolite_key in metabolite_keys:\n",
    "    metabolite_obj = metabolite_dict[metabolite_key]\n",
    "\n",
    "    # append edge to exchange reaction if exchange metabolite\n",
    "    if metabolite_obj.is_exchange_metabolite and not (metabolite_key in assigned_exchange_metabolites):\n",
    "      assigned_exchange_metabolites.add(metabolite_key)\n",
    "      target_reaction = random.choice(list(available_reactions))\n",
    "      available_reactions.remove(target_reaction)\n",
    "\n",
    "      network_edges.append((metabolite_key, target_reaction))\n",
    "\n",
    "    # if all edges assigned, continue\n",
    "    if not metabolite_key in available_metabolites:\n",
    "      continue\n",
    "\n",
    "    # when metabolite is encountered all edges will be assigned, so remove from available list\n",
    "    available_metabolites.remove(metabolite_key)\n",
    "\n",
    "    # assign all edges\n",
    "    while len(metabolite_obj.connections) < metabolite_obj.degree:\n",
    "\n",
    "      # check if other metabolites are available\n",
    "      if len(available_metabolites) == 0:\n",
    "        break\n",
    "\n",
    "      # get random edge target\n",
    "      target_key = random.choice(list(available_metabolites))\n",
    "      target_obj = metabolite_dict[target_key]\n",
    "\n",
    "      # check whether target has free edges\n",
    "      if len(target_obj.connections) == target_obj.degree:\n",
    "        available_metabolites.remove(target_key)\n",
    "        continue\n",
    "\n",
    "      # register target id in source node object\n",
    "      metabolite_obj.connections.append(target_key)\n",
    "\n",
    "      # register source id in target node object\n",
    "      target_obj.connections.append(metabolite_obj.nodeId)\n",
    "\n",
    "      # append edge\n",
    "      metabolite_edges.append((metabolite_key, target_key))"
   ]
  },
  {
   "cell_type": "markdown",
   "metadata": {
    "id": "GlxN7l9K7hbE"
   },
   "source": [
    "# 4) insert reaction nodes"
   ]
  },
  {
   "cell_type": "code",
   "execution_count": 57,
   "metadata": {
    "id": "lHXmn2hyLD36"
   },
   "outputs": [],
   "source": [
    "def assign_edges_to_reactions(reaction_obj, available_metabolite_edges, available_reactions, network_edges):\n",
    "  # print('reactions: ' + str(len(available_reactions)))\n",
    "  # print('mets: ' + str(len(available_metabolite_edges)))\n",
    "\n",
    "  while len(reaction_obj.connections) < reaction_obj.degree:\n",
    "    metabolite_edge = random.choice(list(available_metabolite_edges))\n",
    "    available_metabolite_edges.remove(metabolite_edge)\n",
    "\n",
    "    reaction_obj.connections.append(metabolite_edge[0])\n",
    "    reaction_obj.connections.append(metabolite_edge[1])\n",
    "\n",
    "    network_edges.append((metabolite_edge[0], reaction_obj.nodeId))\n",
    "    network_edges.append((reaction_obj.nodeId, metabolite_edge[1]))\n",
    "\n",
    "def add_internal_reactions(network_edges, metabolite_edges, reaction_dict, available_reactions):\n",
    "\n",
    "  available_metabolite_edges = set(metabolite_edges)\n",
    "\n",
    "  # assign all edges to one reaction\n",
    "  while len(available_reactions) > 0:\n",
    "\n",
    "    reaction = random.choice(list(available_reactions))\n",
    "    available_reactions.remove(reaction)\n",
    "\n",
    "    reaction_obj = reaction_dict[reaction]\n",
    "\n",
    "    # reset metabolite edges\n",
    "    if (reaction_obj.degree - len(reaction_obj.connections) > len(available_metabolite_edges)):\n",
    "      available_metabolite_edges = set(metabolite_edges)\n",
    "\n",
    "    assign_edges_to_reactions(reaction_obj, available_metabolite_edges, available_reactions, network_edges)"
   ]
  },
  {
   "cell_type": "markdown",
   "metadata": {
    "id": "MaK6ywhw6go_"
   },
   "source": [
    "# 4.1) Build module/organelle networks"
   ]
  },
  {
   "cell_type": "code",
   "execution_count": 58,
   "metadata": {
    "id": "yK78FGth6q9m"
   },
   "outputs": [],
   "source": [
    "def add_edges_to_module_nodes(node_collection: NodeCollection, edges: list):\n",
    "    \n",
    "    random_tree = nx.random_powerlaw_tree(node_collection.length)\n",
    "\n",
    "    edges.extend(random_tree.edges)"
   ]
  },
  {
   "cell_type": "markdown",
   "metadata": {
    "id": "Hl8-hk-puqNv"
   },
   "source": [
    "# 5) Build output json"
   ]
  },
  {
   "cell_type": "code",
   "execution_count": 59,
   "metadata": {
    "id": "5LE6K8m1upf-"
   },
   "outputs": [],
   "source": [
    "def build_output_json(level, network_edges, node_collections):\n",
    "\n",
    "  map_id = str(uuid.uuid4())\n",
    "\n",
    "  node_objects = []\n",
    "  edge_objects = []\n",
    "\n",
    "  dummy_data = Data({}, {}, level.value)\n",
    "\n",
    "  for collection in node_collections:\n",
    "    for node in collection.nodes:\n",
    "      node_object = collection.nodes[node]\n",
    "\n",
    "      node_object.nodeType = node_object.nodeType.value\n",
    "\n",
    "      del node_object.degree\n",
    "      del node_object.connections\n",
    "\n",
    "      node_objects.append(node_object)\n",
    "\n",
    "      dummy_data.nodeData[node_object.dataRef] = random.uniform(0, 100)\n",
    "\n",
    "  for edge_id, edge in enumerate(network_edges):\n",
    "    edge_data_ref = str(uuid.uuid4())\n",
    "\n",
    "    edge_object = Edge(edge_id, \"edge_\" + str(edge_id), \"\", edge_data_ref, EdgeType.UNDIRECTED.value, 0, edge[0], edge[1])\n",
    "\n",
    "    edge_objects.append(edge_object)\n",
    "\n",
    "    dummy_data.edgeData[edge_object.dataRef] = random.uniform(0, 10)\n",
    "\n",
    "  print(\"number of nodes: \" + str(len(node_objects)))\n",
    "  print(\"number of edges: \" + str(len(edge_objects)))\n",
    "\n",
    "  network_map = NetworkMap(level.value, node_objects, edge_objects).toJSON()\n",
    "\n",
    "  with open(map_id + \"network_n_\" + str(len(node_objects)) + \"_e_\" + str(len(edge_objects)) + \"_l_\" + level.value +\".json\", \"w\") as outfile:\n",
    "    outfile.write(network_map)\n",
    "\n",
    "  with open(map_id + \"_data_\" + level.value +\".json\", \"w\") as outfile:\n",
    "    outfile.write(dummy_data.toJSON())"
   ]
  },
  {
   "cell_type": "markdown",
   "metadata": {
    "id": "G-ogGybyWqSI"
   },
   "source": [
    "# 6) Build visualization"
   ]
  },
  {
   "cell_type": "code",
   "execution_count": 60,
   "metadata": {
    "id": "ZB1u4aclC8p6"
   },
   "outputs": [],
   "source": [
    "def add_to_graph_from_dict(node_dict, graph):\n",
    "  for node in node_dict:\n",
    "    node_obj = node_dict[node]\n",
    "    graph.add_node(node_obj.nodeId, pos=(node_obj.x,node_obj.y))\n",
    "\n",
    "def build_graph(network_edges, node_collections):\n",
    "  graph = nx.Graph()\n",
    "\n",
    "  for node_collection in node_collections:\n",
    "    add_to_graph_from_dict(node_collection.nodes, graph)\n",
    "\n",
    "  graph.add_edges_from(network_edges)\n",
    "\n",
    "  return graph\n",
    "\n",
    "def draw_graph(graph, node_collections):\n",
    "\n",
    "  fig, ax = plt.subplots()\n",
    "\n",
    "  pos = nx.get_node_attributes(graph, 'pos')\n",
    "  # pos = nx.spring_layout(graph, k=10)\n",
    "  # pos = nx.random_layout(graph)\n",
    "\n",
    "  for node_collection in node_collections:\n",
    "    shape = 'o'\n",
    "\n",
    "    if node_collection.nodeType == NodeType.DIAMOND:\n",
    "      shape = 'd'\n",
    "\n",
    "    add_to_graph_from_dict(node_collection.nodes, graph)\n",
    "    nx.draw_networkx_nodes(graph, nodelist=list(node_collection.nodes.keys()), pos=pos , node_shape=shape)\n",
    "\n",
    "  nx.draw_networkx_edges(graph, pos=pos)\n",
    "  nx.draw_networkx_labels(graph, pos=pos)\n",
    "  plt.show()"
   ]
  },
  {
   "cell_type": "markdown",
   "metadata": {
    "id": "qxino0IfLG-t"
   },
   "source": [
    "# 7) Compose everything"
   ]
  },
  {
   "cell_type": "code",
   "execution_count": 61,
   "metadata": {
    "id": "03ryFctyWyQ8"
   },
   "outputs": [],
   "source": [
    "def build_network_layout(node_number, level):\n",
    "\n",
    "  node_collections = generate_nodes(node_number, level)\n",
    "  network_edges = []\n",
    "  graph = None\n",
    "\n",
    "  if level == Level.MOLECULAR:\n",
    "\n",
    "    metabolite_edges = []\n",
    "\n",
    "    metabolite_list = [collection.nodes for collection in node_collections if collection.nodeType == NodeType.CIRCLE][0]\n",
    "    reaction_list = [collection.nodes for collection in node_collections if collection.nodeType == NodeType.DIAMOND][0]\n",
    "\n",
    "    assign_edges_to_metabolites(metabolite_list, reaction_list, network_edges, metabolite_edges)\n",
    "\n",
    "    available_reactions = set(reaction_list.keys())\n",
    "    add_internal_reactions(network_edges, metabolite_edges, reaction_list, available_reactions)\n",
    "\n",
    "    graph = build_graph(network_edges, node_collections)\n",
    "    draw_graph(graph, node_collections)\n",
    "\n",
    "  elif level == Level.MODULE or level == Level.ORGANELLE:\n",
    "    # network_edges = assign_edges_to_nodes(node_collections[0])\n",
    "    add_edges_to_module_nodes(node_collections[0], network_edges)\n",
    "\n",
    "    graph = build_graph(network_edges, node_collections)\n",
    "\n",
    "    draw_graph(graph, node_collections)\n",
    "\n",
    "  build_output_json(level, network_edges, node_collections)\n",
    "\n",
    "  if not nx.is_connected(graph):\n",
    "    print(\"graph is not connected, please repeat\")"
   ]
  },
  {
   "cell_type": "markdown",
   "metadata": {
    "id": "HmTu6pty4fBe"
   },
   "source": [
    "# 8) Run and change parameters"
   ]
  },
  {
   "cell_type": "code",
   "execution_count": 62,
   "metadata": {
    "colab": {
     "base_uri": "https://localhost:8080/",
     "height": 607
    },
    "executionInfo": {
     "elapsed": 1042,
     "status": "ok",
     "timestamp": 1698238222023,
     "user": {
      "displayName": "Emanuel Lange",
      "userId": "07575718888699754128"
     },
     "user_tz": -120
    },
    "id": "EX7SvOlrbiH0",
    "outputId": "b3bb1cc3-f1d3-4ee8-b486-f3ff7cd5239b"
   },
   "outputs": [
    {
     "data": {
      "image/png": "[encoded data removed]",
      "text/plain": [
       "<Figure size 640x480 with 1 Axes>"
      ]
     },
     "metadata": {},
     "output_type": "display_data"
    },
    {
     "name": "stdout",
     "output_type": "stream",
     "text": [
      "number of nodes: 9\n",
      "number of edges: 14\n"
     ]
    }
   ],
   "source": [
    "# node_number: number of nodes\n",
    "# level: MOLECULAR, MODULE or ORGANELLE\n",
    "\n",
    "# Modelue and organelle levels typically would have less than 10 nodes\n",
    "\n",
    "# json file is written automatically\n",
    "# please repeat if graph is not connected\n",
    "\n",
    "build_network_layout(node_number=10, level=Level.MOLECULAR)"
   ]
  },
  {
   "cell_type": "markdown",
   "metadata": {
    "id": "042nxkay4Syk"
   },
   "source": []
  }
 ],
 "metadata": {
  "colab": {
   "provenance": []
  },
  "kernelspec": {
   "display_name": "network_viz_dummy_data",
   "language": "python",
   "name": "python3"
  },
  "language_info": {
   "codemirror_mode": {
    "name": "ipython",
    "version": 3
   },
   "file_extension": ".py",
   "mimetype": "text/x-python",
   "name": "python",
   "nbconvert_exporter": "python",
   "pygments_lexer": "ipython3",
   "version": "3.11.7"
  }
 },
 "nbformat": 4,
 "nbformat_minor": 0
}
